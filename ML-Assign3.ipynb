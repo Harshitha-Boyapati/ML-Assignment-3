{
  "cells": [
    {
      "cell_type": "code",
      "execution_count": 7,
      "metadata": {
        "colab": {
          "base_uri": "https://localhost:8080/"
        },
        "id": "5yIcuNSSmzaD",
        "outputId": "828b6071-5365-4a2a-9679-b6a8ff03bcea"
      },
      "outputs": [
        {
          "name": "stdout",
          "output_type": "stream",
          "text": [
            "Random values are\n",
            "[ 5  1 14  5 12 19  9  4 11  1  9 11  8 19 17]\n",
            "Array after reshape\n",
            "[[ 5  1 14  5 12]\n",
            " [19  9  4 11  1]\n",
            " [ 9 11  8 19 17]]\n",
            "Array : [[ 5  1 14  5 12]\n",
            " [19  9  4 11  1]\n",
            " [ 9 11  8 19 17]]\n",
            "The shape of array is: (3, 5)\n",
            "[[ 5  1  0  5 12]\n",
            " [ 0  9  4 11  1]\n",
            " [ 9 11  8  0 17]]\n"
          ]
        }
      ],
      "source": [
        "#a. Using NumPy create random vector of size 15 having only Integers in the range 1-20.\n",
        "#1. Reshape the array to 3 by 5\n",
        "#2. Print array shape.\n",
        "#3. Replace the max in each row by 0\n",
        "\n",
        "import numpy as np\n",
        "r = np.random.randint(1,20,size= 15)\n",
        "print(\"Random values are\")\n",
        "print(r)\n",
        "\n",
        "# 1. Reshape the array to 3 by 5\n",
        "s=r.reshape(3,5)\n",
        "print(\"Array after reshape\")\n",
        "print(s)\n",
        "\n",
        "# 2. Print array shape.\n",
        "print(\"Array :\",s)\n",
        "print (\"The shape of array is:\",s.shape)\n",
        "\n",
        "# 3. Replace the max in each row by 0\n",
        "New_Array = np.where(s == [ [i] for i in np.amax(s, axis = 1) ], 0, s)\n",
        "print(New_Array)"
      ]
    },
    {
      "cell_type": "code",
      "execution_count": 8,
      "metadata": {
        "colab": {
          "base_uri": "https://localhost:8080/"
        },
        "id": "U2t-y1ctTH8H",
        "outputId": "976e674f-d65f-4a3a-fc89-a66ff7b8c190"
      },
      "outputs": [
        {
          "name": "stdout",
          "output_type": "stream",
          "text": [
            "The shape of an array is  (4, 3)\n",
            "The type of an array is  <class 'numpy.ndarray'>\n",
            "The data type of an array is  int32\n"
          ]
        }
      ],
      "source": [
        "# Create a 2-dimensional array of size 4 x 3 (composed of 4-byte integer elements), also print the shape, type and data type\n",
        "#of the array.\n",
        "import numpy as np\n",
        "\n",
        "arr = np.array([[3,3,3], [3,5,9], [9,4,7], [1,4,3]], dtype=np.int32)\n",
        "print(\"The shape of an array is \", arr.shape)\n",
        "print(\"The type of an array is \", type(arr))\n",
        "print(\"The data type of an array is \", arr.dtype)\n"
      ]
    },
    {
      "cell_type": "code",
      "execution_count": 9,
      "metadata": {
        "colab": {
          "base_uri": "https://localhost:8080/"
        },
        "id": "VJLM-XuGVF2M",
        "outputId": "3a735c6b-9941-4037-eea4-3967605ef0ee"
      },
      "outputs": [
        {
          "name": "stdout",
          "output_type": "stream",
          "text": [
            "Eigenvalues for a given array: [2. 1.]\n",
            "Right eigenvectors for a given array:\n",
            " [[0.89442719 0.70710678]\n",
            " [0.4472136  0.70710678]]\n"
          ]
        }
      ],
      "source": [
        "#1(b) Write a program to compute the eigenvalues and right eigenvectors of a given square array given below:\n",
        "#[[ 3 -2]\n",
        "#[ 1 0]]\n",
        "import numpy as np\n",
        "# defining the square array\n",
        "arr = np.array([[3, -2], [1, 0]])\n",
        "\n",
        "# compute the eigenvalues and right eigenvectors\n",
        "eigenvalues, eigenvectors = np.linalg.eig(arr)\n",
        "\n",
        "# print the eigenvalues and right eigenvectors\n",
        "print(\"Eigenvalues for a given array:\", eigenvalues)\n",
        "print(\"Right eigenvectors for a given array:\\n\",eigenvectors)"
      ]
    },
    {
      "cell_type": "code",
      "execution_count": 10,
      "metadata": {
        "colab": {
          "base_uri": "https://localhost:8080/"
        },
        "id": "AnZId2LwVJfw",
        "outputId": "dda669e8-671b-4fb7-d462-bd3f25dc996d"
      },
      "outputs": [
        {
          "name": "stdout",
          "output_type": "stream",
          "text": [
            "Sum of diagonal elements are+: 4\n"
          ]
        }
      ],
      "source": [
        "#1(c)Compute the sum of the diagonal element of a given array.\n",
        "#[[0 1 2]\n",
        "#[3 4 5]]\n",
        "\n",
        "import numpy as np\n",
        "\n",
        "arr = np.array([[0, 1, 2], [3, 4, 5]])\n",
        "sum = np.trace(arr)\n",
        "print(\"Sum of diagonal elements are+:\", sum)\n"
      ]
    },
    {
      "cell_type": "code",
      "execution_count": 11,
      "metadata": {
        "colab": {
          "base_uri": "https://localhost:8080/"
        },
        "id": "UrTINwXBVRav",
        "outputId": "dfbb79e5-a94e-49c9-91f5-23b63edc9f90"
      },
      "outputs": [
        {
          "name": "stdout",
          "output_type": "stream",
          "text": [
            "Original array:\n",
            " [[1 2]\n",
            " [3 4]\n",
            " [5 6]]\n",
            "Modified array:\n",
            " [[1 2 3]\n",
            " [4 5 6]]\n"
          ]
        }
      ],
      "source": [
        "#1(d)Write a NumPy program to create a new shape to an array without changing its data. \n",
        "#Reshape 3x2:\n",
        "#[[1 2]\n",
        "#[3 4]\n",
        "#[5 6]]\n",
        "#Reshape 2x3:\n",
        "#[[1 2 3]\n",
        "#[4 5 6]]\n",
        "import numpy as np\n",
        "\n",
        "# define the original array\n",
        "arr = np.array([[1, 2], [3, 4], [5, 6]])\n",
        "\n",
        "# reshape to 3x2\n",
        "arr_3x2 = arr.reshape(3, 2)\n",
        "\n",
        "# reshape to 2x3\n",
        "arr_2x3 = arr.reshape(2, 3)\n",
        "\n",
        "print(\"Original array:\\n\", arr_3x2)\n",
        "print(\"Modified array:\\n\", arr_2x3)\n"
      ]
    }
  ],
  "metadata": {
    "colab": {
      "provenance": []
    },
    "kernelspec": {
      "display_name": "Python 3",
      "name": "python3"
    },
    "language_info": {
      "name": "python"
    }
  },
  "nbformat": 4,
  "nbformat_minor": 0
}
